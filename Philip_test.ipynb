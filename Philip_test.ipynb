{
 "cells": [
  {
   "cell_type": "code",
   "execution_count": 1,
   "id": "ffa81819-2057-40fe-bed9-cdb7ceb09cc1",
   "metadata": {},
   "outputs": [],
   "source": [
    "#import necessary libraries\n",
    "import os\n",
    "import requests\n",
    "import pipecat\n",
    "import re\n",
    "from mistralai.client import MistralClient"
   ]
  },
  {
   "cell_type": "code",
   "execution_count": 2,
   "id": "70f27804-1f1b-4706-97fb-d3cffbf1697e",
   "metadata": {},
   "outputs": [],
   "source": [
    "# Set API key for Mistral AI\n",
    "os.environ[\"MISTRAL_API_KEY\"] = \"SECRETMISTRALKEY\"\n",
    "\n",
    "# Set OpenWeather API key\n",
    "os.environ[\"OPENWEATHER_API_KEY\"] = \"SUPERSECRETOPENWEATHERKEY\""
   ]
  },
  {
   "cell_type": "code",
   "execution_count": 3,
   "id": "4f92e449-86a0-4aff-b972-762d950bf8f1",
   "metadata": {},
   "outputs": [
    {
     "name": "stdout",
     "output_type": "stream",
     "text": [
      "Mistral API Key: SECRETMISTRALKEY\n",
      "OpenWeather API Key: SUPERSECRETOPENWEATHERKEY\n"
     ]
    }
   ],
   "source": [
    "# Verify API keys are set correctly\n",
    "print(\"Mistral API Key:\", os.getenv(\"MISTRAL_API_KEY\"))\n",
    "print(\"OpenWeather API Key:\", os.getenv(\"OPENWEATHER_API_KEY\"))"
   ]
  },
  {
   "cell_type": "code",
   "execution_count": 4,
   "id": "1e2663f3-d442-46c9-80f9-a76ab43a3235",
   "metadata": {},
   "outputs": [],
   "source": [
    "client = MistralClient(api_key=os.environ[\"MISTRAL_API_KEY\"])"
   ]
  },
  {
   "cell_type": "code",
   "execution_count": 5,
   "id": "2a0d219e-fac0-4ff3-8231-8652c1a47edd",
   "metadata": {},
   "outputs": [
    {
     "name": "stdout",
     "output_type": "stream",
     "text": [
      "Hello! I'm just a computer program, so I don't have feelings, but I'm here and ready to help you with any questions you have. How can I assist you today?\n"
     ]
    }
   ],
   "source": [
    "#function to chat with Mistral\n",
    "def chat_with_mistral(prompt):\n",
    "    response = client.chat(\n",
    "        model=\"mistral-tiny\", \n",
    "        messages=[{\"role\": \"user\", \"content\": prompt}]\n",
    "    )\n",
    "    return response.choices[0].message.content\n",
    "\n",
    "print(chat_with_mistral(\"Hello, how are you?\"))"
   ]
  },
  {
   "cell_type": "code",
   "execution_count": 6,
   "id": "05a0d11c-be57-4703-94ab-0b8955802429",
   "metadata": {},
   "outputs": [
    {
     "name": "stdout",
     "output_type": "stream",
     "text": [
      "It looks like you're asking about the weather! Soon, we'll fetch real data.\n",
      "Why don't scientists trust atoms? Because they make up everything!\n"
     ]
    }
   ],
   "source": [
    "def chat_with_mistral(prompt):\n",
    "    # Check if the message contains \"weather\"\n",
    "    if \"weather\" in prompt.lower():\n",
    "        return \"It looks like you're asking about the weather! Soon, we'll fetch real data.\"\n",
    "\n",
    "    # Otherwise, send the message to Mistral AI\n",
    "    response = client.chat(\n",
    "        model=\"mistral-small\",\n",
    "        messages=[{\"role\": \"user\", \"content\": prompt}]\n",
    "    )\n",
    "    return response.choices[0].message.content\n",
    "\n",
    "# Test with a weather-related question\n",
    "print(chat_with_mistral(\"What's the weather like in Berlin?\"))\n",
    "print(chat_with_mistral(\"Tell me a joke.\"))"
   ]
  },
  {
   "cell_type": "code",
   "execution_count": 7,
   "id": "07a9bbf8-6caf-4c19-86ba-419783d44c4f",
   "metadata": {},
   "outputs": [],
   "source": [
    "# Function to fetch weather data from OpenWeather API\n",
    "def get_weather(city):\n",
    "    openweather_api_key = os.getenv(\"OPENWEATHER_API_KEY\")\n",
    "    if not openweather_api_key:\n",
    "        return \"API key is missing. Set the OPENWEATHER_API_KEY.\"\n",
    "\n",
    "    url = f\"http://api.openweathermap.org/data/2.5/weather?q={city}&appid={openweather_api_key}&units=metric\"\n",
    "    response = requests.get(url)\n",
    "\n",
    "    if response.status_code == 200:\n",
    "        data = response.json()\n",
    "        weather = data[\"weather\"][0][\"description\"]\n",
    "        temp = data[\"main\"][\"temp\"]\n",
    "        return f\"The weather in {city} is {weather} with a temperature of {temp}°C.\"\n",
    "    else:\n",
    "        return f\"Error fetching weather data: {response.json().get('message', 'Unknown error')}\""
   ]
  },
  {
   "cell_type": "code",
   "execution_count": 8,
   "id": "3b6dfd90-9a22-4770-ba0e-f634af5b9c18",
   "metadata": {},
   "outputs": [
    {
     "name": "stdout",
     "output_type": "stream",
     "text": [
      "The weather in Berlin is overcast clouds with a temperature of -0.86°C.\n"
     ]
    }
   ],
   "source": [
    "# Set OpenWeather API key \n",
    "openweather_api_key = os.getenv(\"OPENWEATHER_API_KEY\")\n",
    "\n",
    "# Test again\n",
    "print(get_weather(\"Berlin\"))"
   ]
  },
  {
   "cell_type": "code",
   "execution_count": 9,
   "id": "e6edc4e7-c3aa-43d0-85c3-a379e9908952",
   "metadata": {},
   "outputs": [
    {
     "name": "stdout",
     "output_type": "stream",
     "text": [
      "The weather in Berlin is overcast clouds with a temperature of -0.86°C.\n",
      "Of course, I'd be happy to share a joke with you! Here it is:\n",
      "\n",
      "Why don't scientists trust atoms?\n",
      "\n",
      "Because they make up everything!\n",
      "\n",
      "I hope that brought a smile to your face. Would you like to hear another joke, or is there something else you'd like to talk about?\n"
     ]
    }
   ],
   "source": [
    "def chat_with_mistral(prompt):\n",
    "    # Check if the message contains \"weather\"\n",
    "    if \"weather\" in prompt.lower():\n",
    "        # Try extracting a city name using regex\n",
    "        city_match = re.search(r\"in ([A-Za-z\\s]+)\", prompt)\n",
    "        if city_match:\n",
    "            city = city_match.group(1).strip()\n",
    "        else:\n",
    "            return \"I need a city name to check the weather!\"\n",
    "\n",
    "        # Call the real weather API function\n",
    "        return get_weather(city)\n",
    "\n",
    "    # Otherwise, send the message to Mistral AI\n",
    "    response = client.chat(\n",
    "        model=\"mistral-small\",\n",
    "        messages=[{\"role\": \"user\", \"content\": prompt}]\n",
    "    )\n",
    "    return response.choices[0].message.content\n",
    "\n",
    "# Test with a real weather request\n",
    "print(chat_with_mistral(\"What's the weather like in Berlin?\"))\n",
    "print(chat_with_mistral(\"Tell me a joke.\"))"
   ]
  },
  {
   "cell_type": "code",
   "execution_count": 10,
   "id": "88a05384-0d2d-4a40-ba6d-47ab1d235e4e",
   "metadata": {},
   "outputs": [
    {
     "name": "stdin",
     "output_type": "stream",
     "text": [
      "Which city's weather do you want to know?  frankfurt\n"
     ]
    },
    {
     "name": "stdout",
     "output_type": "stream",
     "text": [
      "The weather in frankfurt is overcast clouds with a temperature of 0.84°C.\n",
      "The weather in Tokyo is overcast clouds with a temperature of 8.75°C.\n",
      "Of course, I'd be happy to share a joke with you! Here it is:\n",
      "\n",
      "Why don't scientists trust atoms?\n",
      "\n",
      "Because they make up everything!\n",
      "\n",
      "I hope that brought a smile to your face. Would you like to hear another joke, or is there something else you'd like to talk about?\n"
     ]
    }
   ],
   "source": [
    "def extract_city(prompt):\n",
    "    \"\"\"Extracts a city name from a user's prompt and ensures it's valid.\"\"\"\n",
    "    # Check for 'in CITY'\n",
    "    city_match = re.search(r\"in ([A-Za-z\\s]+)\", prompt)\n",
    "    if city_match:\n",
    "        city = city_match.group(1).strip()\n",
    "        if len(city) > 2 and city.lower() not in [\"weather\", \"temperature\", \"like\"]:\n",
    "            return city\n",
    "\n",
    "    words = prompt.split()\n",
    "    last_word = words[-1].strip(\"?.!,\").capitalize()\n",
    "\n",
    "    if len(last_word) > 2 and last_word.lower() not in [\"weather\", \"temperature\", \"like\"]:\n",
    "        return last_word\n",
    "\n",
    "    return None  # No valid city detected\n",
    "\n",
    "# chatbot function\n",
    "def chat_with_mistral(prompt):\n",
    "    # Check if the message contains \"weather\"\n",
    "    if \"weather\" in prompt.lower():\n",
    "        city = extract_city(prompt)\n",
    "\n",
    "        # If no valid city was found, ask the user\n",
    "        if not city:\n",
    "            city = input(\"Which city's weather do you want to know? \").strip()\n",
    "            return get_weather(city)\n",
    "\n",
    "        # Call the weather API function\n",
    "        return get_weather(city)\n",
    "\n",
    "    # Otherwise, send the message to Mistral AI\n",
    "    response = client.chat(\n",
    "        model=\"mistral-small\",\n",
    "        messages=[{\"role\": \"user\", \"content\": prompt}]\n",
    "    )\n",
    "    return response.choices[0].message.content\n",
    "\n",
    "# Test chatbot interactions\n",
    "print(chat_with_mistral(\"What's the weather like?\"))  \n",
    "print(chat_with_mistral(\"Weather Tokyo\"))  \n",
    "print(chat_with_mistral(\"Tell me a joke.\"))  "
   ]
  },
  {
   "cell_type": "code",
   "execution_count": null,
   "id": "71d87a36-1e27-4c4f-96b9-8a25ed6468b4",
   "metadata": {},
   "outputs": [],
   "source": []
  }
 ],
 "metadata": {
  "kernelspec": {
   "display_name": "Python (pipecatfinal)",
   "language": "python",
   "name": "pipecatfinal"
  },
  "language_info": {
   "codemirror_mode": {
    "name": "ipython",
    "version": 3
   },
   "file_extension": ".py",
   "mimetype": "text/x-python",
   "name": "python",
   "nbconvert_exporter": "python",
   "pygments_lexer": "ipython3",
   "version": "3.12.8"
  }
 },
 "nbformat": 4,
 "nbformat_minor": 5
}
